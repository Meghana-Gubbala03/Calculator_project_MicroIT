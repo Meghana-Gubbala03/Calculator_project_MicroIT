{
  "nbformat": 4,
  "nbformat_minor": 0,
  "metadata": {
    "colab": {
      "provenance": [],
      "authorship_tag": "ABX9TyPCTwMwpMTAsJvA/a057LMu",
      "include_colab_link": true
    },
    "kernelspec": {
      "name": "python3",
      "display_name": "Python 3"
    },
    "language_info": {
      "name": "python"
    }
  },
  "cells": [
    {
      "cell_type": "markdown",
      "metadata": {
        "id": "view-in-github",
        "colab_type": "text"
      },
      "source": [
        "<a href=\"https://colab.research.google.com/github/Meghana-Gubbala03/Calculator_project_MicroIT/blob/main/Untitled0.ipynb\" target=\"_parent\"><img src=\"https://colab.research.google.com/assets/colab-badge.svg\" alt=\"Open In Colab\"/></a>"
      ]
    },
    {
      "cell_type": "code",
      "execution_count": 2,
      "metadata": {
        "id": "rEFyzGFuZzMx",
        "colab": {
          "base_uri": "https://localhost:8080/"
        },
        "outputId": "044e2b64-d7c5-49d7-a409-9b2f73821c39"
      },
      "outputs": [
        {
          "output_type": "stream",
          "name": "stdout",
          "text": [
            "[1 2 3]\n"
          ]
        }
      ],
      "source": [
        "import numpy as np\n",
        "a = np.array([1,2,3])\n",
        "print(a)"
      ]
    },
    {
      "cell_type": "code",
      "source": [
        "a = np.array([1,2])\n",
        "b = np.array([3,4])\n",
        "print(a+b)"
      ],
      "metadata": {
        "id": "2ks3JyfKZ1FW",
        "colab": {
          "base_uri": "https://localhost:8080/"
        },
        "outputId": "06631c4a-aee4-4e05-eeac-b697b9312a81"
      },
      "execution_count": 3,
      "outputs": [
        {
          "output_type": "stream",
          "name": "stdout",
          "text": [
            "[4 6]\n"
          ]
        }
      ]
    },
    {
      "cell_type": "code",
      "source": [
        "arr = np.array([5,8,3,6])\n",
        "print(arr)\n",
        "print(arr.shape)\n",
        "print(arr[1:3]) #Slicing"
      ],
      "metadata": {
        "colab": {
          "base_uri": "https://localhost:8080/"
        },
        "id": "aYZ5Csb9KurV",
        "outputId": "f36425de-6b9f-48b4-d836-32ea02f73916"
      },
      "execution_count": 4,
      "outputs": [
        {
          "output_type": "stream",
          "name": "stdout",
          "text": [
            "[5 8 3 6]\n",
            "(4,)\n",
            "[8 3]\n"
          ]
        }
      ]
    },
    {
      "cell_type": "code",
      "source": [
        "print(arr - 2)"
      ],
      "metadata": {
        "colab": {
          "base_uri": "https://localhost:8080/"
        },
        "id": "kPGUwp4tYccp",
        "outputId": "cd1f7f04-355e-4203-df12-adfc7bcf3ad6"
      },
      "execution_count": 5,
      "outputs": [
        {
          "output_type": "stream",
          "name": "stdout",
          "text": [
            "[3 6 1 4]\n"
          ]
        }
      ]
    },
    {
      "cell_type": "code",
      "source": [
        "import pandas as pd\n",
        "ages = np.array([13,25,19])\n",
        "names = ['Emma', 'Swetha', 'Serajh']\n",
        "\n",
        "series1 = pd.Series(ages, index=names)\n",
        "print(series1)"
      ],
      "metadata": {
        "colab": {
          "base_uri": "https://localhost:8080/"
        },
        "id": "O0EBadX6ZWAr",
        "outputId": "0cad6e48-a983-4b8f-d9e7-49ce320530d4"
      },
      "execution_count": 8,
      "outputs": [
        {
          "output_type": "stream",
          "name": "stdout",
          "text": [
            "Emma      13\n",
            "Swetha    25\n",
            "Serajh    19\n",
            "dtype: int64\n"
          ]
        }
      ]
    },
    {
      "cell_type": "code",
      "source": [
        "dataf = pd.DataFrame([\n",
        "    ['John smith','123 Main St', 34],\n",
        "    ['jane Doe', '456 Maple awe',28],\n",
        "    ['joe Schmo', '789 Boardway',51]\n",
        "  ],\n",
        "    columns = ['name','address','age'])\n",
        "\n",
        "dataf.set_index('name', inplace=True)\n",
        "print(dataf)"
      ],
      "metadata": {
        "colab": {
          "base_uri": "https://localhost:8080/"
        },
        "id": "JP1V544zaFvb",
        "outputId": "23a5bbd9-783b-4b67-decf-0ea1f3883ebf"
      },
      "execution_count": 9,
      "outputs": [
        {
          "output_type": "stream",
          "name": "stdout",
          "text": [
            "                  address  age\n",
            "name                          \n",
            "John smith    123 Main St   34\n",
            "jane Doe    456 Maple awe   28\n",
            "joe Schmo    789 Boardway   51\n"
          ]
        }
      ]
    }
  ]
}